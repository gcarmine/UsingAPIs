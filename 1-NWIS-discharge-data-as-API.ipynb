{
 "cells": [
  {
   "cell_type": "markdown",
   "metadata": {},
   "source": [
    "# Accessing the NWIS Discharge data  - as an API\n",
    "In an earlier session, we used `urllib` and `pandas` to retrieve data from a static URL. Here we refine that procedure to again retrieve water flow data from the NWIS website. What's different this time, however, is that we examine the URL as a web service, dissecting it into its components (web service address and web service parameters). We also switch to using the Python `requests` package to handle the interaction, as it's slightly more user friendly than the `urllib` package. "
   ]
  },
  {
   "cell_type": "markdown",
   "metadata": {},
   "source": [
    "The URL listing current discharge conditions in the Eno near Durham gage site is here: \n",
    "```html\n",
    "http://waterdata.usgs.gov/nwis/uv?cb_00060=on&cb_00065=on&format=rdb&site_no=02085070&period=1&begin_date=&end_date=\n",
    "```"
   ]
  },
  {
   "cell_type": "markdown",
   "metadata": {},
   "source": [
    "As you'll see in the example below, the `requests` package constructs a web service request with two parameters. The first is the full service address (`http://waterdata.usgs.gov/nwis/uv`), which is followed by the set of service parameters, passed as a Python dictionary."
   ]
  },
  {
   "cell_type": "code",
   "execution_count": 1,
   "metadata": {},
   "outputs": [],
   "source": [
    "#import packages\n",
    "import requests"
   ]
  },
  {
   "cell_type": "code",
   "execution_count": 2,
   "metadata": {},
   "outputs": [],
   "source": [
    "#dissect the URL into it's components, for easy comprehension -- and easy modification\n",
    "serviceURL = 'http://waterdata.usgs.gov/nwis/uv'\n",
    "parameters = {'cb_00060':'on',\n",
    "              'cb_00065':'on',\n",
    "              'format':'rdb',\n",
    "              'period':'1',\n",
    "              'site_no':'02085070',\n",
    "              'begin_date':'',\n",
    "              'end_date':''\n",
    "             }"
   ]
  },
  {
   "cell_type": "markdown",
   "metadata": {},
   "source": [
    "Ok, here we send the request, storing the response in a variable called `response`. The second line extacts the response as raw text into the variable `responseText`."
   ]
  },
  {
   "cell_type": "code",
   "execution_count": 3,
   "metadata": {},
   "outputs": [],
   "source": [
    "#Pass the url and its parameters to the server and get its response\n",
    "response = requests.get(serviceURL, parameters)\n",
    "responseText = response.text"
   ]
  },
  {
   "cell_type": "code",
   "execution_count": 4,
   "metadata": {
    "collapsed": true
   },
   "outputs": [
    {
     "name": "stdout",
     "output_type": "stream",
     "text": [
      "# ---------------------------------- WARNING ----------------------------------------\n",
      "# Some of the data that you have obtained from this U.S. Geological Survey database\n",
      "# may not have received Director's approval. Any such data values are qualified\n",
      "# as provisional and are subject to revision. Provisional data are released on the\n",
      "# condition that neither the USGS nor the United States Government may be held liable\n",
      "# for any damages resulting from its use.\n",
      "#\n",
      "# Additional info: https://help.waterdata.usgs.gov/policies/provisional-data-statement\n",
      "#\n",
      "# File-format description:  https://help.waterdata.usgs.gov/faq/about-tab-delimited-output\n",
      "# Automated-retrieval info: https://help.waterdata.usgs.gov/faq/automated-retrievals\n",
      "#\n",
      "# Contact:   gs-w_support_nwisweb@usgs.gov\n",
      "# retrieved: 2020-11-17 14:00:23 EST       (vaww02)\n",
      "#\n",
      "# Data for the following 1 site(s) are contained in this file\n",
      "#    USGS 02085070 ENO RIVER NEAR DURHAM, NC\n",
      "# -----------------------------------------------------------------------------------\n",
      "#\n",
      "# Data provided for site 02085070\n",
      "#            TS   parameter     Description\n",
      "#         89062       00060     Discharge, cubic feet per second\n",
      "#         89063       00065     Gage height, feet\n",
      "#\n",
      "# Data-value qualification codes included in this output:\n",
      "#     P  Provisional data subject to revision.\n",
      "# \n",
      "agency_cd\tsite_no\tdatetime\ttz_cd\t89062_00060\t89062_00060_cd\t89063_00065\t89063_00065_cd\n",
      "5s\t15s\t20d\t6s\t14n\t10s\t14n\t10s\n",
      "USGS\t02085070\t2020-11-16 00:00\tEST\t171\tP\t2.48\tP\n",
      "USGS\t02085070\t2020-11-16 00:15\tEST\t169\tP\t2.47\tP\n",
      "USGS\t02085070\t2020-11-16 00:30\tEST\t169\tP\t2.47\tP\n",
      "USGS\t02085070\t2020-11-16 00:45\tEST\t169\tP\t2.47\tP\n",
      "USGS\t02085070\t2020-11-16 01:00\tEST\t169\tP\t2.47\tP\n",
      "USGS\t02085070\t2020-11-16 01:15\tEST\t167\tP\t2.46\tP\n",
      "USGS\t02085070\t2020-11-16 01:30\tEST\t167\tP\t2.46\tP\n",
      "USGS\t02085070\t2020-11-16 01:45\tEST\t167\tP\t2.46\tP\n",
      "USGS\t02085070\t2020-11-16 02:00\tEST\t165\tP\t2.45\tP\n",
      "USGS\t02085070\t2020-11-16 02:15\tEST\t165\tP\t2.45\tP\n",
      "USGS\t02085070\t2020-11-16 02:30\tEST\t165\tP\t2.45\tP\n",
      "USGS\t02085070\t2020-11-16 02:45\tEST\t165\tP\t2.45\tP\n",
      "USGS\t02085070\t2020-11-16 03:00\tEST\t163\tP\t2.44\tP\n",
      "USGS\t02085070\t2020-11-16 03:15\tEST\t165\tP\t2.45\tP\n",
      "USGS\t02085070\t2020-11-16 03:30\tEST\t163\tP\t2.44\tP\n",
      "USGS\t02085070\t2020-11-16 03:45\tEST\t163\tP\t2.44\tP\n",
      "USGS\t02085070\t2020-11-16 04:00\tEST\t163\tP\t2.44\tP\n",
      "USGS\t02085070\t2020-11-16 04:15\tEST\t161\tP\t2.43\tP\n",
      "USGS\t02085070\t2020-11-16 04:30\tEST\t161\tP\t2.43\tP\n",
      "USGS\t02085070\t2020-11-16 04:45\tEST\t161\tP\t2.43\tP\n",
      "USGS\t02085070\t2020-11-16 05:00\tEST\t161\tP\t2.43\tP\n",
      "USGS\t02085070\t2020-11-16 05:15\tEST\t161\tP\t2.43\tP\n",
      "USGS\t02085070\t2020-11-16 05:30\tEST\t159\tP\t2.42\tP\n",
      "USGS\t02085070\t2020-11-16 05:45\tEST\t159\tP\t2.42\tP\n",
      "USGS\t02085070\t2020-11-16 06:00\tEST\t159\tP\t2.42\tP\n",
      "USGS\t02085070\t2020-11-16 06:15\tEST\t159\tP\t2.42\tP\n",
      "USGS\t02085070\t2020-11-16 06:30\tEST\t159\tP\t2.42\tP\n",
      "USGS\t02085070\t2020-11-16 06:45\tEST\t159\tP\t2.42\tP\n",
      "USGS\t02085070\t2020-11-16 07:00\tEST\t159\tP\t2.42\tP\n",
      "USGS\t02085070\t2020-11-16 07:15\tEST\t157\tP\t2.41\tP\n",
      "USGS\t02085070\t2020-11-16 07:30\tEST\t157\tP\t2.41\tP\n",
      "USGS\t02085070\t2020-11-16 07:45\tEST\t157\tP\t2.41\tP\n",
      "USGS\t02085070\t2020-11-16 08:00\tEST\t157\tP\t2.41\tP\n",
      "USGS\t02085070\t2020-11-16 08:15\tEST\t155\tP\t2.40\tP\n",
      "USGS\t02085070\t2020-11-16 08:30\tEST\t155\tP\t2.40\tP\n",
      "USGS\t02085070\t2020-11-16 08:45\tEST\t155\tP\t2.40\tP\n",
      "USGS\t02085070\t2020-11-16 09:00\tEST\t155\tP\t2.40\tP\n",
      "USGS\t02085070\t2020-11-16 09:15\tEST\t155\tP\t2.40\tP\n",
      "USGS\t02085070\t2020-11-16 09:30\tEST\t155\tP\t2.40\tP\n",
      "USGS\t02085070\t2020-11-16 09:45\tEST\t155\tP\t2.40\tP\n",
      "USGS\t02085070\t2020-11-16 10:00\tEST\t155\tP\t2.40\tP\n",
      "USGS\t02085070\t2020-11-16 10:15\tEST\t153\tP\t2.39\tP\n",
      "USGS\t02085070\t2020-11-16 10:30\tEST\t153\tP\t2.39\tP\n",
      "USGS\t02085070\t2020-11-16 10:45\tEST\t153\tP\t2.39\tP\n",
      "USGS\t02085070\t2020-11-16 11:00\tEST\t153\tP\t2.39\tP\n",
      "USGS\t02085070\t2020-11-16 11:15\tEST\t153\tP\t2.39\tP\n",
      "USGS\t02085070\t2020-11-16 11:30\tEST\t151\tP\t2.38\tP\n",
      "USGS\t02085070\t2020-11-16 11:45\tEST\t151\tP\t2.38\tP\n",
      "USGS\t02085070\t2020-11-16 12:00\tEST\t151\tP\t2.38\tP\n",
      "USGS\t02085070\t2020-11-16 12:15\tEST\t151\tP\t2.38\tP\n",
      "USGS\t02085070\t2020-11-16 12:30\tEST\t151\tP\t2.38\tP\n",
      "USGS\t02085070\t2020-11-16 12:45\tEST\t151\tP\t2.38\tP\n",
      "USGS\t02085070\t2020-11-16 13:00\tEST\t151\tP\t2.38\tP\n",
      "USGS\t02085070\t2020-11-16 13:15\tEST\t149\tP\t2.37\tP\n",
      "USGS\t02085070\t2020-11-16 13:30\tEST\t149\tP\t2.37\tP\n",
      "USGS\t02085070\t2020-11-16 13:45\tEST\t149\tP\t2.37\tP\n",
      "USGS\t02085070\t2020-11-16 14:00\tEST\t149\tP\t2.37\tP\n",
      "USGS\t02085070\t2020-11-16 14:15\tEST\t149\tP\t2.37\tP\n",
      "USGS\t02085070\t2020-11-16 14:30\tEST\t149\tP\t2.37\tP\n",
      "USGS\t02085070\t2020-11-16 14:45\tEST\t149\tP\t2.37\tP\n",
      "USGS\t02085070\t2020-11-16 15:00\tEST\t147\tP\t2.36\tP\n",
      "USGS\t02085070\t2020-11-16 15:15\tEST\t147\tP\t2.36\tP\n",
      "USGS\t02085070\t2020-11-16 15:30\tEST\t147\tP\t2.36\tP\n",
      "USGS\t02085070\t2020-11-16 15:45\tEST\t145\tP\t2.35\tP\n",
      "USGS\t02085070\t2020-11-16 16:00\tEST\t147\tP\t2.36\tP\n",
      "USGS\t02085070\t2020-11-16 16:15\tEST\t145\tP\t2.35\tP\n",
      "USGS\t02085070\t2020-11-16 16:30\tEST\t145\tP\t2.35\tP\n",
      "USGS\t02085070\t2020-11-16 16:45\tEST\t145\tP\t2.35\tP\n",
      "USGS\t02085070\t2020-11-16 17:00\tEST\t143\tP\t2.34\tP\n",
      "USGS\t02085070\t2020-11-16 17:15\tEST\t145\tP\t2.35\tP\n",
      "USGS\t02085070\t2020-11-16 17:30\tEST\t145\tP\t2.35\tP\n",
      "USGS\t02085070\t2020-11-16 17:45\tEST\t145\tP\t2.35\tP\n",
      "USGS\t02085070\t2020-11-16 18:00\tEST\t145\tP\t2.35\tP\n",
      "USGS\t02085070\t2020-11-16 18:15\tEST\t143\tP\t2.34\tP\n",
      "USGS\t02085070\t2020-11-16 18:30\tEST\t143\tP\t2.34\tP\n",
      "USGS\t02085070\t2020-11-16 18:45\tEST\t143\tP\t2.34\tP\n",
      "USGS\t02085070\t2020-11-16 19:00\tEST\t143\tP\t2.34\tP\n",
      "USGS\t02085070\t2020-11-16 19:15\tEST\t143\tP\t2.34\tP\n",
      "USGS\t02085070\t2020-11-16 19:30\tEST\t143\tP\t2.34\tP\n",
      "USGS\t02085070\t2020-11-16 19:45\tEST\t143\tP\t2.34\tP\n",
      "USGS\t02085070\t2020-11-16 20:00\tEST\t143\tP\t2.34\tP\n",
      "USGS\t02085070\t2020-11-16 20:15\tEST\t143\tP\t2.34\tP\n",
      "USGS\t02085070\t2020-11-16 20:30\tEST\t143\tP\t2.34\tP\n",
      "USGS\t02085070\t2020-11-16 20:45\tEST\t143\tP\t2.34\tP\n",
      "USGS\t02085070\t2020-11-16 21:00\tEST\t143\tP\t2.34\tP\n",
      "USGS\t02085070\t2020-11-16 21:15\tEST\t143\tP\t2.34\tP\n",
      "USGS\t02085070\t2020-11-16 21:30\tEST\t143\tP\t2.34\tP\n",
      "USGS\t02085070\t2020-11-16 21:45\tEST\t141\tP\t2.33\tP\n",
      "USGS\t02085070\t2020-11-16 22:00\tEST\t143\tP\t2.34\tP\n",
      "USGS\t02085070\t2020-11-16 22:15\tEST\t141\tP\t2.33\tP\n",
      "USGS\t02085070\t2020-11-16 22:30\tEST\t141\tP\t2.33\tP\n",
      "USGS\t02085070\t2020-11-16 22:45\tEST\t141\tP\t2.33\tP\n",
      "USGS\t02085070\t2020-11-16 23:00\tEST\t141\tP\t2.33\tP\n",
      "USGS\t02085070\t2020-11-16 23:15\tEST\t141\tP\t2.33\tP\n",
      "USGS\t02085070\t2020-11-16 23:30\tEST\t140\tP\t2.32\tP\n",
      "USGS\t02085070\t2020-11-16 23:45\tEST\t140\tP\t2.32\tP\n",
      "USGS\t02085070\t2020-11-17 00:00\tEST\t140\tP\t2.32\tP\n",
      "USGS\t02085070\t2020-11-17 00:15\tEST\t140\tP\t2.32\tP\n",
      "USGS\t02085070\t2020-11-17 00:30\tEST\t140\tP\t2.32\tP\n",
      "USGS\t02085070\t2020-11-17 00:45\tEST\t138\tP\t2.31\tP\n",
      "USGS\t02085070\t2020-11-17 01:00\tEST\t138\tP\t2.31\tP\n",
      "USGS\t02085070\t2020-11-17 01:15\tEST\t138\tP\t2.31\tP\n",
      "USGS\t02085070\t2020-11-17 01:30\tEST\t138\tP\t2.31\tP\n",
      "USGS\t02085070\t2020-11-17 01:45\tEST\t136\tP\t2.30\tP\n",
      "USGS\t02085070\t2020-11-17 02:00\tEST\t136\tP\t2.30\tP\n",
      "USGS\t02085070\t2020-11-17 02:15\tEST\t136\tP\t2.30\tP\n",
      "USGS\t02085070\t2020-11-17 02:30\tEST\t136\tP\t2.30\tP\n",
      "USGS\t02085070\t2020-11-17 02:45\tEST\t136\tP\t2.30\tP\n",
      "USGS\t02085070\t2020-11-17 03:00\tEST\t136\tP\t2.30\tP\n",
      "USGS\t02085070\t2020-11-17 03:15\tEST\t136\tP\t2.30\tP\n",
      "USGS\t02085070\t2020-11-17 03:30\tEST\t134\tP\t2.29\tP\n",
      "USGS\t02085070\t2020-11-17 03:45\tEST\t134\tP\t2.29\tP\n",
      "USGS\t02085070\t2020-11-17 04:00\tEST\t134\tP\t2.29\tP\n",
      "USGS\t02085070\t2020-11-17 04:15\tEST\t134\tP\t2.29\tP\n",
      "USGS\t02085070\t2020-11-17 04:30\tEST\t132\tP\t2.28\tP\n",
      "USGS\t02085070\t2020-11-17 04:45\tEST\t134\tP\t2.29\tP\n",
      "USGS\t02085070\t2020-11-17 05:00\tEST\t132\tP\t2.28\tP\n",
      "USGS\t02085070\t2020-11-17 05:15\tEST\t132\tP\t2.28\tP\n",
      "USGS\t02085070\t2020-11-17 05:30\tEST\t132\tP\t2.28\tP\n",
      "USGS\t02085070\t2020-11-17 05:45\tEST\t132\tP\t2.28\tP\n",
      "USGS\t02085070\t2020-11-17 06:00\tEST\t132\tP\t2.28\tP\n",
      "USGS\t02085070\t2020-11-17 06:15\tEST\t131\tP\t2.27\tP\n",
      "USGS\t02085070\t2020-11-17 06:30\tEST\t131\tP\t2.27\tP\n",
      "USGS\t02085070\t2020-11-17 06:45\tEST\t131\tP\t2.27\tP\n",
      "USGS\t02085070\t2020-11-17 07:00\tEST\t131\tP\t2.27\tP\n",
      "USGS\t02085070\t2020-11-17 07:15\tEST\t131\tP\t2.27\tP\n",
      "USGS\t02085070\t2020-11-17 07:30\tEST\t131\tP\t2.27\tP\n",
      "USGS\t02085070\t2020-11-17 07:45\tEST\t131\tP\t2.27\tP\n",
      "USGS\t02085070\t2020-11-17 08:00\tEST\t129\tP\t2.26\tP\n",
      "USGS\t02085070\t2020-11-17 08:15\tEST\t129\tP\t2.26\tP\n",
      "USGS\t02085070\t2020-11-17 08:30\tEST\t129\tP\t2.26\tP\n",
      "USGS\t02085070\t2020-11-17 08:45\tEST\t129\tP\t2.26\tP\n",
      "USGS\t02085070\t2020-11-17 09:00\tEST\t129\tP\t2.26\tP\n",
      "USGS\t02085070\t2020-11-17 09:15\tEST\t129\tP\t2.26\tP\n",
      "USGS\t02085070\t2020-11-17 09:30\tEST\t129\tP\t2.26\tP\n",
      "USGS\t02085070\t2020-11-17 09:45\tEST\t129\tP\t2.26\tP\n",
      "USGS\t02085070\t2020-11-17 10:00\tEST\t129\tP\t2.26\tP\n",
      "USGS\t02085070\t2020-11-17 10:15\tEST\t129\tP\t2.26\tP\n",
      "USGS\t02085070\t2020-11-17 10:30\tEST\t129\tP\t2.26\tP\n",
      "USGS\t02085070\t2020-11-17 10:45\tEST\t131\tP\t2.27\tP\n",
      "USGS\t02085070\t2020-11-17 11:00\tEST\t129\tP\t2.26\tP\n",
      "USGS\t02085070\t2020-11-17 11:15\tEST\t129\tP\t2.26\tP\n",
      "USGS\t02085070\t2020-11-17 11:30\tEST\t129\tP\t2.26\tP\n",
      "USGS\t02085070\t2020-11-17 11:45\tEST\t129\tP\t2.26\tP\n",
      "USGS\t02085070\t2020-11-17 12:00\tEST\t129\tP\t2.26\tP\n",
      "USGS\t02085070\t2020-11-17 12:15\tEST\t127\tP\t2.25\tP\n",
      "USGS\t02085070\t2020-11-17 12:30\tEST\t127\tP\t2.25\tP\n",
      "USGS\t02085070\t2020-11-17 12:45\tEST\t127\tP\t2.25\tP\n",
      "USGS\t02085070\t2020-11-17 13:00\tEST\t127\tP\t2.25\tP\n",
      "USGS\t02085070\t2020-11-17 13:15\tEST\t127\tP\t2.25\tP\n",
      "\n"
     ]
    }
   ],
   "source": [
    "#What did we get? \n",
    "print(responseText)"
   ]
  },
  {
   "cell_type": "markdown",
   "metadata": {},
   "source": [
    "If you scroll all the way to the last line in the file, you get the most recent reading. We can use some Python to print out what this reading is... "
   ]
  },
  {
   "cell_type": "code",
   "execution_count": 5,
   "metadata": {},
   "outputs": [
    {
     "name": "stdout",
     "output_type": "stream",
     "text": [
      "Site 02085070 recorded a discharge of 127 cfs on 2020-11-17 13:15\n"
     ]
    }
   ],
   "source": [
    "#Convert the response text into a list of lines and print the second to last line\n",
    "responseLines = responseText.split('\\n')\n",
    "lastRecord = responseLines[-2].split('\\t')\n",
    "site = lastRecord[1]\n",
    "cfs = lastRecord[4]\n",
    "date = lastRecord[2]\n",
    "print(\"Site {0} recorded a discharge of {1} cfs on {2}\".format(site,cfs,date))"
   ]
  },
  {
   "cell_type": "markdown",
   "metadata": {},
   "source": [
    "► **EXERCISE**: The 3 code blocks below are copies of the ones above. Modify these code blocks to get data for site 02085039 (Eno River At Cole Mill Rd Nr Huckleberry Spring), and print out its most recent *gage height* (in feet):"
   ]
  },
  {
   "cell_type": "code",
   "execution_count": 6,
   "metadata": {},
   "outputs": [],
   "source": [
    "#dissect the URL into it's components, for easy comprehension -- and easy modification\n",
    "serviceURL = 'http://waterdata.usgs.gov/nwis/uv'\n",
    "parameters = {'cb_00060':'on',\n",
    "              'cb_00065':'on',\n",
    "              'format':'rdb',\n",
    "              'period':'1',\n",
    "              'site_no':'02085039',\n",
    "              'begin_date':'',\n",
    "              'end_date':''\n",
    "             }"
   ]
  },
  {
   "cell_type": "code",
   "execution_count": 7,
   "metadata": {},
   "outputs": [],
   "source": [
    "#Pass the url and its parameters to the server and get its response\n",
    "response = requests.get(serviceURL, parameters)\n",
    "responseText = response.text"
   ]
  },
  {
   "cell_type": "code",
   "execution_count": 8,
   "metadata": {},
   "outputs": [
    {
     "name": "stdout",
     "output_type": "stream",
     "text": [
      "Site 02085039 recorded a discharge of 2.78 cfs on 2020-11-17 13:00\n"
     ]
    }
   ],
   "source": [
    "#Convert the response text into a list of lines and print the second to last line\n",
    "responseLines = responseText.split('\\n')\n",
    "lastRecord = responseLines[-2].split('\\t')\n",
    "site = lastRecord[1]\n",
    "cfs = lastRecord[4]\n",
    "date = lastRecord[2]\n",
    "print(\"Site {0} recorded a discharge of {1} cfs on {2}\".format(site,cfs,date))"
   ]
  },
  {
   "cell_type": "code",
   "execution_count": null,
   "metadata": {},
   "outputs": [],
   "source": []
  }
 ],
 "metadata": {
  "kernelspec": {
   "display_name": "Python 3",
   "language": "python",
   "name": "python3"
  },
  "language_info": {
   "codemirror_mode": {
    "name": "ipython",
    "version": 3
   },
   "file_extension": ".py",
   "mimetype": "text/x-python",
   "name": "python",
   "nbconvert_exporter": "python",
   "pygments_lexer": "ipython3",
   "version": "3.6.12"
  }
 },
 "nbformat": 4,
 "nbformat_minor": 2
}
